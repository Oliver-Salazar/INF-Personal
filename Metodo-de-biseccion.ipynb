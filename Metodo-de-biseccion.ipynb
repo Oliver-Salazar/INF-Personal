{
  "nbformat": 4,
  "nbformat_minor": 0,
  "metadata": {
    "colab": {
      "name": "Untitled0.ipynb",
      "provenance": [],
      "authorship_tag": "ABX9TyNvzLEmh5mcY0Biv2RMgEcB",
      "include_colab_link": true
    },
    "kernelspec": {
      "name": "python3",
      "display_name": "Python 3"
    }
  },
  "cells": [
    {
      "cell_type": "markdown",
      "metadata": {
        "id": "view-in-github",
        "colab_type": "text"
      },
      "source": [
        "<a href=\"https://colab.research.google.com/github/Oliver-Salazar/INF-Personal/blob/master/Metodo-de-biseccion.ipynb\" target=\"_parent\"><img src=\"https://colab.research.google.com/assets/colab-badge.svg\" alt=\"Open In Colab\"/></a>"
      ]
    },
    {
      "cell_type": "code",
      "metadata": {
        "id": "SMDmTFVGsWIS"
      },
      "source": [
        ""
      ],
      "execution_count": 1,
      "outputs": []
    },
    {
      "cell_type": "markdown",
      "metadata": {
        "id": "Upd35xE8sgAY"
      },
      "source": [
        "Tarea 3 Programa Metodo de bisección"
      ]
    },
    {
      "cell_type": "markdown",
      "metadata": {
        "id": "KlMyFtYwsXA2"
      },
      "source": [
        ""
      ]
    },
    {
      "cell_type": "code",
      "metadata": {
        "id": "KStv5TgEskyD",
        "outputId": "2370477e-bf00-4f62-d04a-b52c0800babf",
        "colab": {
          "base_uri": "https://localhost:8080/"
        }
      },
      "source": [
        "from math import *\n",
        "\n",
        "def f(x):\n",
        "\n",
        "    y=pow(x, 3)+4*(pow(x, 2))-10\n",
        "\n",
        "    return y\n",
        "\n",
        "a=1\n",
        "\n",
        "b=2\n",
        "\n",
        "tol=0.001\n",
        "\n",
        "n0=50\n",
        "\n",
        "i=1\n",
        "\n",
        "fa=f(a)\n",
        "\n",
        "fb=f(b)\n",
        "\n",
        "while i<=n0:\n",
        "\n",
        "    p=a+(b-a)/2\n",
        "\n",
        "    fp=f(p)\n",
        "\n",
        "    print(\"La solucion \",p,\"despues de \",i,\"iteraciones\")\n",
        "\n",
        "    if fp==0 or (b-a)/2<tol:\n",
        "\n",
        "        print(\"La solucion es \",p,\"despues de \",i,\"iteraciones\")\n",
        "\n",
        "        break\n",
        "\n",
        "    i=i+1\n",
        "\n",
        "    if fa*fp>0:\n",
        "\n",
        "        a=p\n",
        "\n",
        "        fa=fp\n",
        "\n",
        "    else:\n",
        "\n",
        "        b=p\n",
        "\n",
        "        fb=fp\n",
        "\n",
        "if i>=n0:\n",
        "\n",
        "    print(\"El metodo no converge \")"
      ],
      "execution_count": 66,
      "outputs": [
        {
          "output_type": "stream",
          "text": [
            "La solucion  1.5 despues de  1 iteraciones\n",
            "La solucion  1.25 despues de  2 iteraciones\n",
            "La solucion  1.375 despues de  3 iteraciones\n",
            "La solucion  1.3125 despues de  4 iteraciones\n",
            "La solucion  1.34375 despues de  5 iteraciones\n",
            "La solucion  1.359375 despues de  6 iteraciones\n",
            "La solucion  1.3671875 despues de  7 iteraciones\n",
            "La solucion  1.36328125 despues de  8 iteraciones\n",
            "La solucion  1.365234375 despues de  9 iteraciones\n",
            "La solucion  1.3642578125 despues de  10 iteraciones\n",
            "La solucion es  1.3642578125 despues de  10 iteraciones\n"
          ],
          "name": "stdout"
        }
      ]
    }
  ]
}